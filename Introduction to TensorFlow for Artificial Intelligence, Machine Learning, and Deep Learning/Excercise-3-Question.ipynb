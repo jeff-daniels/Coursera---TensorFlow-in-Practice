{
 "cells": [
  {
   "cell_type": "markdown",
   "metadata": {
    "colab_type": "text",
    "id": "iQjHqsmTAVLU"
   },
   "source": [
    "## Exercise 3\n",
    "In the videos you looked at how you would improve Fashion MNIST using Convolutions. For your exercise see if you can improve MNIST to 99.8% accuracy or more using only a single convolutional layer and a single MaxPooling 2D. You should stop training once the accuracy goes above this amount. It should happen in less than 20 epochs, so it's ok to hard code the number of epochs for training, but your training must end once it hits the above metric. If it doesn't, then you'll need to redesign your layers.\n",
    "\n",
    "I've started the code for you -- you need to finish it!\n",
    "\n",
    "When 99.8% accuracy has been hit, you should print out the string \"Reached 99.8% accuracy so cancelling training!\"\n"
   ]
  },
  {
   "cell_type": "code",
   "execution_count": 6,
   "metadata": {},
   "outputs": [],
   "source": [
    "import tensorflow as tf\n",
    "from os import path, getcwd, chdir\n",
    "\n",
    "# DO NOT CHANGE THE LINE BELOW. If you are developing in a local\n",
    "# environment, then grab mnist.npz from the Coursera Jupyter Notebook\n",
    "# and place it inside a local folder and edit the path to that location\n",
    "path = f\"{getcwd()}/../tmp2/mnist.npz\""
   ]
  },
  {
   "cell_type": "code",
   "execution_count": 7,
   "metadata": {},
   "outputs": [],
   "source": [
    "config = tf.ConfigProto()\n",
    "config.gpu_options.allow_growth = True\n",
    "sess = tf.Session(config=config)"
   ]
  },
  {
   "cell_type": "code",
   "execution_count": 20,
   "metadata": {},
   "outputs": [],
   "source": [
    "# GRADED FUNCTION: train_mnist_conv\n",
    "    \n",
    "# Threshold for when to stop training\n",
    "ACCURACY_THRESH = 0.998\n",
    "\n",
    "# Create a callback class\n",
    "class myCallback(tf.keras.callbacks.Callback):\n",
    "    def on_epoch_end(self, epoch, logs={}):\n",
    "        if(logs.get('acc') >= ACCURACY_THRESH):\n",
    "            print(f'\\nReached {ACCURACY_THRESH*100}% accuracy so cancelling training!')\n",
    "            self.model.stop_training = True\n",
    "\n",
    "def train_mnist_conv():\n",
    "    \n",
    "    # Load the dataset\n",
    "    mnist = tf.keras.datasets.mnist\n",
    "    (training_images, training_labels), (test_images, test_labels) = mnist.load_data(path=path)\n",
    "    \n",
    "    # Normalize and reshape images\n",
    "    training_images=training_images.reshape(60000, 28, 28, 1)\n",
    "    training_images = training_images/255.0\n",
    "    test_images = test_images.reshape(10000, 28, 28, 1)\n",
    "    test_images = test_images/255.0\n",
    "    \n",
    "    # Define a callback\n",
    "    callbacks = myCallback()\n",
    "\n",
    "    # Define a model\n",
    "    model = tf.keras.models.Sequential([\n",
    "        tf.keras.layers.Conv2D(64, (3,3), activation='relu', input_shape=(28, 28, 1)),\n",
    "        tf.keras.layers.MaxPooling2D(2, 2),\n",
    "        tf.keras.layers.Conv2D(64, (3,3), activation='relu'),\n",
    "        tf.keras.layers.MaxPooling2D(2,2),\n",
    "        tf.keras.layers.Flatten(),\n",
    "        tf.keras.layers.Dense(128, activation='relu'),\n",
    "        tf.keras.layers.Dense(10, activation='softmax')\n",
    "    ])\n",
    "\n",
    "    # Set training parameters\n",
    "    model.compile(optimizer='adam', loss='sparse_categorical_crossentropy', metrics=['accuracy'])\n",
    "    \n",
    "    # Train model\n",
    "    history = model.fit(training_images, training_labels, epochs=20, callbacks=[callbacks])\n",
    "    \n",
    "    # model fitting\n",
    "    return history.epoch, history.history['acc'][-1]\n",
    "\n"
   ]
  },
  {
   "cell_type": "code",
   "execution_count": 21,
   "metadata": {},
   "outputs": [
    {
     "name": "stdout",
     "output_type": "stream",
     "text": [
      "Epoch 1/20\n",
      "60000/60000 [==============================] - 17s 287us/sample - loss: 0.1241 - acc: 0.9628\n",
      "Epoch 2/20\n",
      "60000/60000 [==============================] - 16s 267us/sample - loss: 0.0415 - acc: 0.9871\n",
      "Epoch 3/20\n",
      "60000/60000 [==============================] - 16s 272us/sample - loss: 0.0271 - acc: 0.9913 - loss: 0.0271 - acc - ETA: 2s - loss: 0.0275 - ETA: 1s - loss: 0.0270 \n",
      "Epoch 4/20\n",
      "60000/60000 [==============================] - 18s 302us/sample - loss: 0.0196 - acc: 0.9937 - ETA: 10s - loss: 0.0189 - acc:  - ETA: 10s - loss: 0.0191  - ETA: 2s \n",
      "Epoch 5/20\n",
      "60000/60000 [==============================] - 18s 306us/sample - loss: 0.0153 - acc: 0.9949\n",
      "Epoch 6/20\n",
      "60000/60000 [==============================] - 17s 275us/sample - loss: 0.0126 - acc: 0.9956\n",
      "Epoch 7/20\n",
      "60000/60000 [==============================] - 18s 297us/sample - loss: 0.0084 - acc: 0.9974 - loss: 0.0072 - acc - ETA: 3s  - ETA: 0s - loss: 0.0084 - acc: 0\n",
      "Epoch 8/20\n",
      "60000/60000 [==============================] - 18s 305us/sample - loss: 0.0086 - acc: 0.9972 - loss: 0.0061 - acc: 0.99 - ETA: 9s - loss - ETA: 7s -  - ETA: 5s - loss: 0.0073 - acc: - ETA: 5s - loss: 0.0072  - E\n",
      "Epoch 9/20\n",
      "60000/60000 [==============================] - 18s 302us/sample - loss: 0.0068 - acc: 0.9976\n",
      "Epoch 10/20\n",
      "59744/60000 [============================>.] - ETA: 0s - loss: 0.0060 - acc: 0.9980\n",
      "Reached 99.8% accuracy so cancelling training!\n",
      "60000/60000 [==============================] - 19s 322us/sample - loss: 0.0060 - acc: 0.9980\n"
     ]
    }
   ],
   "source": [
    "_, _ = train_mnist_conv()"
   ]
  },
  {
   "cell_type": "code",
   "execution_count": null,
   "metadata": {},
   "outputs": [],
   "source": [
    "# Now click the 'Submit Assignment' button above.\n",
    "# Once that is complete, please run the following two cells to save your work and close the notebook"
   ]
  },
  {
   "cell_type": "code",
   "execution_count": null,
   "metadata": {},
   "outputs": [],
   "source": [
    "%%javascript\n",
    "<!-- Save the notebook -->\n",
    "IPython.notebook.save_checkpoint();"
   ]
  },
  {
   "cell_type": "code",
   "execution_count": null,
   "metadata": {},
   "outputs": [],
   "source": [
    "%%javascript\n",
    "IPython.notebook.session.delete();\n",
    "window.onbeforeunload = null\n",
    "setTimeout(function() { window.close(); }, 1000);"
   ]
  }
 ],
 "metadata": {
  "coursera": {
   "course_slug": "introduction-tensorflow",
   "graded_item_id": "ml06H",
   "launcher_item_id": "hQF8A"
  },
  "kernelspec": {
   "display_name": "Python 3",
   "language": "python",
   "name": "python3"
  },
  "language_info": {
   "codemirror_mode": {
    "name": "ipython",
    "version": 3
   },
   "file_extension": ".py",
   "mimetype": "text/x-python",
   "name": "python",
   "nbconvert_exporter": "python",
   "pygments_lexer": "ipython3",
   "version": "3.6.8"
  }
 },
 "nbformat": 4,
 "nbformat_minor": 1
}
