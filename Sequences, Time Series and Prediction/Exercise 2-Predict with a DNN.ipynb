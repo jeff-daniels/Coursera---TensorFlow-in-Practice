{
  "nbformat": 4,
  "nbformat_minor": 0,
  "metadata": {
    "colab": {
      "name": "S+P_Week_2_Exercise_Question.ipynb",
      "provenance": [],
      "toc_visible": true
    },
    "kernelspec": {
      "display_name": "Python 3",
      "name": "python3"
    }
  },
  "cells": [
    {
      "cell_type": "code",
      "metadata": {
        "id": "zX4Kg8DUTKWO",
        "colab_type": "code",
        "colab": {}
      },
      "source": [
        "#@title Licensed under the Apache License, Version 2.0 (the \"License\");\n",
        "# you may not use this file except in compliance with the License.\n",
        "# You may obtain a copy of the License at\n",
        "#\n",
        "# https://www.apache.org/licenses/LICENSE-2.0\n",
        "#\n",
        "# Unless required by applicable law or agreed to in writing, software\n",
        "# distributed under the License is distributed on an \"AS IS\" BASIS,\n",
        "# WITHOUT WARRANTIES OR CONDITIONS OF ANY KIND, either express or implied.\n",
        "# See the License for the specific language governing permissions and\n",
        "# limitations under the License."
      ],
      "execution_count": 1,
      "outputs": []
    },
    {
      "cell_type": "code",
      "metadata": {
        "cellView": "both",
        "colab_type": "code",
        "id": "D1J15Vh_1Jih",
        "colab": {
          "base_uri": "https://localhost:8080/",
          "height": 51
        },
        "outputId": "df164fa0-f704-41d1-da30-67e197c616e2"
      },
      "source": [
        "!pip install tf-nightly-2.0-preview\n"
      ],
      "execution_count": 2,
      "outputs": [
        {
          "output_type": "stream",
          "text": [
            "\u001b[31mERROR: Could not find a version that satisfies the requirement tf-nightly-2.0-preview (from versions: none)\u001b[0m\n",
            "\u001b[31mERROR: No matching distribution found for tf-nightly-2.0-preview\u001b[0m\n"
          ],
          "name": "stdout"
        }
      ]
    },
    {
      "cell_type": "code",
      "metadata": {
        "colab_type": "code",
        "id": "BOjujz601HcS",
        "colab": {
          "base_uri": "https://localhost:8080/",
          "height": 34
        },
        "outputId": "7b8e1e17-84d8-42db-cc1f-a165dc1e95aa"
      },
      "source": [
        "import tensorflow as tf\n",
        "import numpy as np\n",
        "import matplotlib.pyplot as plt\n",
        "print(tf.__version__)"
      ],
      "execution_count": 3,
      "outputs": [
        {
          "output_type": "stream",
          "text": [
            "2.3.0\n"
          ],
          "name": "stdout"
        }
      ]
    },
    {
      "cell_type": "code",
      "metadata": {
        "colab_type": "code",
        "id": "Zswl7jRtGzkk",
        "colab": {
          "base_uri": "https://localhost:8080/",
          "height": 279
        },
        "outputId": "8cb49853-fd5b-482a-b181-04774a2f2f35"
      },
      "source": [
        "def plot_series(time, series, format=\"-\", start=0, end=None):\n",
        "    plt.plot(time[start:end], series[start:end], format)\n",
        "    plt.xlabel(\"Time\")\n",
        "    plt.ylabel(\"Value\")\n",
        "    plt.grid(False)\n",
        "\n",
        "def trend(time, slope=0):\n",
        "    return slope * time\n",
        "\n",
        "def seasonal_pattern(season_time):\n",
        "    \"\"\"Just an arbitrary pattern, you can change it if you wish\"\"\"\n",
        "    return np.where(season_time < 0.1,\n",
        "                    np.cos(season_time * 6 * np.pi),\n",
        "                    1 / np.exp(9 * season_time))\n",
        "\n",
        "def seasonality(time, period, amplitude=1, phase=0):\n",
        "    \"\"\"Repeats the same pattern at each period\"\"\"\n",
        "    season_time = ((time + phase) % period) / period\n",
        "    return amplitude * seasonal_pattern(season_time)\n",
        "\n",
        "def noise(time, noise_level=1, seed=None):\n",
        "    rnd = np.random.RandomState(seed)\n",
        "    return rnd.randn(len(time)) * noise_level\n",
        "\n",
        "time = np.arange(10 * 365 + 1, dtype=\"float32\")\n",
        "baseline = 10\n",
        "series = trend(time, 0.1)  \n",
        "baseline = 10\n",
        "amplitude = 40\n",
        "slope = 0.005\n",
        "noise_level = 3\n",
        "\n",
        "# Create the series\n",
        "series = baseline + trend(time, slope) + seasonality(time, period=365, amplitude=amplitude)\n",
        "# Update with noise\n",
        "series += noise(time, noise_level, seed=51)\n",
        "\n",
        "split_time = 3000\n",
        "time_train = time[:split_time]\n",
        "x_train = series[:split_time]\n",
        "time_valid = time[split_time:]\n",
        "x_valid = series[split_time:]\n",
        "\n",
        "window_size = 20\n",
        "batch_size = 32\n",
        "shuffle_buffer_size = 1000\n",
        "\n",
        "plot_series(time, series)"
      ],
      "execution_count": 6,
      "outputs": [
        {
          "output_type": "display_data",
          "data": {
            "image/png": "[encoded data removed]",
            "text/plain": [
              "<Figure size 432x288 with 1 Axes>"
            ]
          },
          "metadata": {
            "tags": [],
            "needs_background": "light"
          }
        }
      ]
    },
    {
      "cell_type": "markdown",
      "metadata": {
        "colab_type": "text",
        "id": "GfUTNqti_lNC"
      },
      "source": [
        "Desired output -- a chart that looks like this:\n",
        "\n",
        "![Chart showing upward trend and seasonailty](http://www.laurencemoroney.com/wp-content/uploads/2019/07/plot1.png)"
      ]
    },
    {
      "cell_type": "code",
      "metadata": {
        "colab_type": "code",
        "id": "4sTTIOCbyShY",
        "colab": {}
      },
      "source": [
        "def windowed_dataset(series, window_size, batch_size, shuffle_buffer):\n",
        "  dataset = tf.data.Dataset.from_tensor_slices(series)\n",
        "  dataset = dataset.window(window_size + 1, shift=1, drop_remainder=True)\n",
        "  dataset = dataset.flat_map(lambda window: window.batch(window_size + 1))\n",
        "  dataset = dataset.shuffle(shuffle_buffer).map(lambda window: (window[:-1], window[-1]))\n",
        "  dataset = dataset.batch(batch_size).prefetch(1)\n",
        "  return dataset"
      ],
      "execution_count": 7,
      "outputs": []
    },
    {
      "cell_type": "code",
      "metadata": {
        "colab_type": "code",
        "id": "TW-vT7eLYAdb",
        "colab": {
          "base_uri": "https://localhost:8080/",
          "height": 1000
        },
        "outputId": "ba350b92-db26-4593-828a-7f6283ea96d9"
      },
      "source": [
        "dataset = windowed_dataset(x_train, window_size, batch_size, shuffle_buffer_size)\n",
        "\n",
        "\n",
        "model = tf.keras.models.Sequential([\n",
        "    tf.keras.layers.Dense(32, input_shape=[window_size], activation='relu'),\n",
        "    tf.keras.layers.Dense(16, activation='relu'), \n",
        "    tf.keras.layers.Dense(1)\n",
        "])\n",
        "\n",
        "model.compile(loss='mse', optimizer='adam', metrics=['mae'])\n",
        "model.fit(dataset,epochs=100,verbose=2)\n"
      ],
      "execution_count": 14,
      "outputs": [
        {
          "output_type": "stream",
          "text": [
            "Epoch 1/100\n",
            "94/94 - 0s - loss: 112.7037 - mae: 6.9944\n",
            "Epoch 2/100\n",
            "94/94 - 0s - loss: 31.7072 - mae: 3.8572\n",
            "Epoch 3/100\n",
            "94/94 - 0s - loss: 25.5394 - mae: 3.5099\n",
            "Epoch 4/100\n",
            "94/94 - 0s - loss: 23.4583 - mae: 3.3610\n",
            "Epoch 5/100\n",
            "94/94 - 0s - loss: 22.5440 - mae: 3.3189\n",
            "Epoch 6/100\n",
            "94/94 - 0s - loss: 21.3809 - mae: 3.1977\n",
            "Epoch 7/100\n",
            "94/94 - 0s - loss: 21.0812 - mae: 3.1821\n",
            "Epoch 8/100\n",
            "94/94 - 0s - loss: 20.6845 - mae: 3.1483\n",
            "Epoch 9/100\n",
            "94/94 - 0s - loss: 20.5225 - mae: 3.1281\n",
            "Epoch 10/100\n",
            "94/94 - 0s - loss: 20.1688 - mae: 3.1263\n",
            "Epoch 11/100\n",
            "94/94 - 0s - loss: 20.1362 - mae: 3.0890\n",
            "Epoch 12/100\n",
            "94/94 - 0s - loss: 19.6681 - mae: 3.0751\n",
            "Epoch 13/100\n",
            "94/94 - 0s - loss: 19.3751 - mae: 3.0466\n",
            "Epoch 14/100\n",
            "94/94 - 0s - loss: 19.1691 - mae: 3.0323\n",
            "Epoch 15/100\n",
            "94/94 - 0s - loss: 19.5858 - mae: 3.0885\n",
            "Epoch 16/100\n",
            "94/94 - 0s - loss: 19.1949 - mae: 3.0306\n",
            "Epoch 17/100\n",
            "94/94 - 0s - loss: 18.6014 - mae: 2.9902\n",
            "Epoch 18/100\n",
            "94/94 - 0s - loss: 18.7377 - mae: 2.9958\n",
            "Epoch 19/100\n",
            "94/94 - 0s - loss: 19.2041 - mae: 3.0646\n",
            "Epoch 20/100\n",
            "94/94 - 0s - loss: 18.4501 - mae: 2.9703\n",
            "Epoch 21/100\n",
            "94/94 - 0s - loss: 18.7303 - mae: 2.9969\n",
            "Epoch 22/100\n",
            "94/94 - 0s - loss: 18.2976 - mae: 2.9607\n",
            "Epoch 23/100\n",
            "94/94 - 0s - loss: 18.9327 - mae: 3.0175\n",
            "Epoch 24/100\n",
            "94/94 - 0s - loss: 18.5584 - mae: 2.9836\n",
            "Epoch 25/100\n",
            "94/94 - 0s - loss: 18.4235 - mae: 2.9758\n",
            "Epoch 26/100\n",
            "94/94 - 0s - loss: 18.0976 - mae: 2.9379\n",
            "Epoch 27/100\n",
            "94/94 - 0s - loss: 18.2018 - mae: 2.9418\n",
            "Epoch 28/100\n",
            "94/94 - 0s - loss: 18.0295 - mae: 2.9417\n",
            "Epoch 29/100\n",
            "94/94 - 0s - loss: 17.9530 - mae: 2.9239\n",
            "Epoch 30/100\n",
            "94/94 - 0s - loss: 17.9101 - mae: 2.9347\n",
            "Epoch 31/100\n",
            "94/94 - 0s - loss: 17.8336 - mae: 2.9082\n",
            "Epoch 32/100\n",
            "94/94 - 0s - loss: 18.1411 - mae: 2.9249\n",
            "Epoch 33/100\n",
            "94/94 - 0s - loss: 17.7917 - mae: 2.9118\n",
            "Epoch 34/100\n",
            "94/94 - 0s - loss: 17.6861 - mae: 2.8947\n",
            "Epoch 35/100\n",
            "94/94 - 0s - loss: 17.5927 - mae: 2.8843\n",
            "Epoch 36/100\n",
            "94/94 - 0s - loss: 17.8144 - mae: 2.9005\n",
            "Epoch 37/100\n",
            "94/94 - 0s - loss: 17.5154 - mae: 2.8718\n",
            "Epoch 38/100\n",
            "94/94 - 0s - loss: 17.2436 - mae: 2.8374\n",
            "Epoch 39/100\n",
            "94/94 - 0s - loss: 17.5928 - mae: 2.8813\n",
            "Epoch 40/100\n",
            "94/94 - 0s - loss: 17.2861 - mae: 2.8508\n",
            "Epoch 41/100\n",
            "94/94 - 0s - loss: 16.9324 - mae: 2.8010\n",
            "Epoch 42/100\n",
            "94/94 - 0s - loss: 17.4537 - mae: 2.8697\n",
            "Epoch 43/100\n",
            "94/94 - 0s - loss: 17.1284 - mae: 2.8306\n",
            "Epoch 44/100\n",
            "94/94 - 0s - loss: 17.0126 - mae: 2.8223\n",
            "Epoch 45/100\n",
            "94/94 - 0s - loss: 16.7529 - mae: 2.7985\n",
            "Epoch 46/100\n",
            "94/94 - 0s - loss: 17.2091 - mae: 2.8412\n",
            "Epoch 47/100\n",
            "94/94 - 0s - loss: 16.8561 - mae: 2.8056\n",
            "Epoch 48/100\n",
            "94/94 - 0s - loss: 16.7980 - mae: 2.7999\n",
            "Epoch 49/100\n",
            "94/94 - 0s - loss: 17.0130 - mae: 2.8152\n",
            "Epoch 50/100\n",
            "94/94 - 0s - loss: 17.0210 - mae: 2.8129\n",
            "Epoch 51/100\n",
            "94/94 - 0s - loss: 16.9536 - mae: 2.8179\n",
            "Epoch 52/100\n",
            "94/94 - 0s - loss: 16.8764 - mae: 2.8115\n",
            "Epoch 53/100\n",
            "94/94 - 0s - loss: 17.1235 - mae: 2.8383\n",
            "Epoch 54/100\n",
            "94/94 - 0s - loss: 16.7324 - mae: 2.7913\n",
            "Epoch 55/100\n",
            "94/94 - 0s - loss: 16.6676 - mae: 2.7997\n",
            "Epoch 56/100\n",
            "94/94 - 0s - loss: 17.2191 - mae: 2.8289\n",
            "Epoch 57/100\n",
            "94/94 - 0s - loss: 16.8848 - mae: 2.8104\n",
            "Epoch 58/100\n",
            "94/94 - 0s - loss: 17.0096 - mae: 2.8221\n",
            "Epoch 59/100\n",
            "94/94 - 0s - loss: 16.6707 - mae: 2.7829\n",
            "Epoch 60/100\n",
            "94/94 - 0s - loss: 16.5266 - mae: 2.7615\n",
            "Epoch 61/100\n",
            "94/94 - 0s - loss: 16.8034 - mae: 2.8008\n",
            "Epoch 62/100\n",
            "94/94 - 0s - loss: 16.9512 - mae: 2.8338\n",
            "Epoch 63/100\n",
            "94/94 - 0s - loss: 16.8271 - mae: 2.8055\n",
            "Epoch 64/100\n",
            "94/94 - 0s - loss: 16.6327 - mae: 2.7767\n",
            "Epoch 65/100\n",
            "94/94 - 0s - loss: 16.4888 - mae: 2.7702\n",
            "Epoch 66/100\n",
            "94/94 - 0s - loss: 16.4630 - mae: 2.7681\n",
            "Epoch 67/100\n",
            "94/94 - 0s - loss: 16.7827 - mae: 2.8233\n",
            "Epoch 68/100\n",
            "94/94 - 0s - loss: 16.6597 - mae: 2.7886\n",
            "Epoch 69/100\n",
            "94/94 - 0s - loss: 16.7860 - mae: 2.7994\n",
            "Epoch 70/100\n",
            "94/94 - 0s - loss: 16.7007 - mae: 2.8012\n",
            "Epoch 71/100\n",
            "94/94 - 0s - loss: 16.7472 - mae: 2.7999\n",
            "Epoch 72/100\n",
            "94/94 - 0s - loss: 16.4209 - mae: 2.7653\n",
            "Epoch 73/100\n",
            "94/94 - 0s - loss: 16.9078 - mae: 2.8203\n",
            "Epoch 74/100\n",
            "94/94 - 0s - loss: 16.5385 - mae: 2.7817\n",
            "Epoch 75/100\n",
            "94/94 - 0s - loss: 16.4335 - mae: 2.7747\n",
            "Epoch 76/100\n",
            "94/94 - 0s - loss: 16.3878 - mae: 2.7677\n",
            "Epoch 77/100\n",
            "94/94 - 0s - loss: 16.3043 - mae: 2.7529\n",
            "Epoch 78/100\n",
            "94/94 - 0s - loss: 16.4728 - mae: 2.7655\n",
            "Epoch 79/100\n",
            "94/94 - 0s - loss: 16.3783 - mae: 2.7695\n",
            "Epoch 80/100\n",
            "94/94 - 0s - loss: 16.5471 - mae: 2.8091\n",
            "Epoch 81/100\n",
            "94/94 - 0s - loss: 16.2989 - mae: 2.7626\n",
            "Epoch 82/100\n",
            "94/94 - 0s - loss: 16.4647 - mae: 2.7955\n",
            "Epoch 83/100\n",
            "94/94 - 0s - loss: 16.6887 - mae: 2.7868\n",
            "Epoch 84/100\n",
            "94/94 - 0s - loss: 16.6410 - mae: 2.7982\n",
            "Epoch 85/100\n",
            "94/94 - 0s - loss: 16.2723 - mae: 2.7627\n",
            "Epoch 86/100\n",
            "94/94 - 0s - loss: 16.3165 - mae: 2.7912\n",
            "Epoch 87/100\n",
            "94/94 - 0s - loss: 16.1290 - mae: 2.7461\n",
            "Epoch 88/100\n",
            "94/94 - 0s - loss: 16.8649 - mae: 2.8230\n",
            "Epoch 89/100\n",
            "94/94 - 0s - loss: 16.1481 - mae: 2.7551\n",
            "Epoch 90/100\n",
            "94/94 - 0s - loss: 16.5925 - mae: 2.7963\n",
            "Epoch 91/100\n",
            "94/94 - 0s - loss: 16.5858 - mae: 2.7875\n",
            "Epoch 92/100\n",
            "94/94 - 0s - loss: 16.0460 - mae: 2.7458\n",
            "Epoch 93/100\n",
            "94/94 - 0s - loss: 16.3026 - mae: 2.7571\n",
            "Epoch 94/100\n",
            "94/94 - 0s - loss: 16.3040 - mae: 2.7631\n",
            "Epoch 95/100\n",
            "94/94 - 0s - loss: 16.5291 - mae: 2.7776\n",
            "Epoch 96/100\n",
            "94/94 - 0s - loss: 16.3607 - mae: 2.7679\n",
            "Epoch 97/100\n",
            "94/94 - 0s - loss: 16.2711 - mae: 2.7607\n",
            "Epoch 98/100\n",
            "94/94 - 0s - loss: 16.0988 - mae: 2.7538\n",
            "Epoch 99/100\n",
            "94/94 - 0s - loss: 18.1744 - mae: 2.9514\n",
            "Epoch 100/100\n",
            "94/94 - 0s - loss: 16.5153 - mae: 2.8045\n"
          ],
          "name": "stdout"
        },
        {
          "output_type": "execute_result",
          "data": {
            "text/plain": [
              "<tensorflow.python.keras.callbacks.History at 0x7faf56c545f8>"
            ]
          },
          "metadata": {
            "tags": []
          },
          "execution_count": 14
        }
      ]
    },
    {
      "cell_type": "code",
      "metadata": {
        "colab_type": "code",
        "id": "efhco2rYyIFF",
        "colab": {
          "base_uri": "https://localhost:8080/",
          "height": 388
        },
        "outputId": "1c124168-09aa-42ef-cbc7-bd252165a611"
      },
      "source": [
        "forecast = []\n",
        "for time in range(len(series) - window_size):\n",
        "  forecast.append(model.predict(series[time:time + window_size][np.newaxis]))\n",
        "\n",
        "forecast = forecast[split_time-window_size:]\n",
        "results = np.array(forecast)[:, 0, 0]\n",
        "\n",
        "\n",
        "plt.figure(figsize=(10, 6))\n",
        "\n",
        "plot_series(time_valid, x_valid)\n",
        "plot_series(time_valid, results)"
      ],
      "execution_count": 15,
      "outputs": [
        {
          "output_type": "display_data",
          "data": {
            "image/png": "[encoded data removed]",
            "text/plain": [
              "<Figure size 720x432 with 1 Axes>"
            ]
          },
          "metadata": {
            "tags": [],
            "needs_background": "light"
          }
        }
      ]
    },
    {
      "cell_type": "code",
      "metadata": {
        "colab_type": "code",
        "id": "-kT6j186YO6K",
        "colab": {
          "base_uri": "https://localhost:8080/",
          "height": 34
        },
        "outputId": "07fb21ad-1b5a-4398-9a01-61a851f12a35"
      },
      "source": [
        "tf.keras.metrics.mean_absolute_error(x_valid, results).numpy()\n",
        "# EXPECTED OUTPUT\n",
        "# A Value less than 3"
      ],
      "execution_count": 16,
      "outputs": [
        {
          "output_type": "execute_result",
          "data": {
            "text/plain": [
              "2.763925"
            ]
          },
          "metadata": {
            "tags": []
          },
          "execution_count": 16
        }
      ]
    },
    {
      "cell_type": "code",
      "metadata": {
        "id": "yrD6DlxUaIi5",
        "colab_type": "code",
        "colab": {}
      },
      "source": [
        ""
      ],
      "execution_count": null,
      "outputs": []
    }
  ]
}