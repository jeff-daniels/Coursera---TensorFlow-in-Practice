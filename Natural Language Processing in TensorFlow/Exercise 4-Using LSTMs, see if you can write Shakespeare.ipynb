{
  "nbformat": 4,
  "nbformat_minor": 0,
  "metadata": {
    "accelerator": "GPU",
    "colab": {
      "name": "NLP_Week4_Exercise_Shakespeare_Question.ipynb",
      "provenance": [],
      "toc_visible": true
    },
    "kernelspec": {
      "display_name": "Python 3",
      "name": "python3"
    }
  },
  "cells": [
    {
      "cell_type": "code",
      "metadata": {
        "id": "zX4Kg8DUTKWO",
        "colab_type": "code",
        "colab": {}
      },
      "source": [
        "#@title Licensed under the Apache License, Version 2.0 (the \"License\");\n",
        "# you may not use this file except in compliance with the License.\n",
        "# You may obtain a copy of the License at\n",
        "#\n",
        "# https://www.apache.org/licenses/LICENSE-2.0\n",
        "#\n",
        "# Unless required by applicable law or agreed to in writing, software\n",
        "# distributed under the License is distributed on an \"AS IS\" BASIS,\n",
        "# WITHOUT WARRANTIES OR CONDITIONS OF ANY KIND, either express or implied.\n",
        "# See the License for the specific language governing permissions and\n",
        "# limitations under the License."
      ],
      "execution_count": null,
      "outputs": []
    },
    {
      "cell_type": "code",
      "metadata": {
        "colab_type": "code",
        "id": "BOwsuGQQY9OL",
        "colab": {}
      },
      "source": [
        "from tensorflow.keras.preprocessing.sequence import pad_sequences\n",
        "from tensorflow.keras.layers import Embedding, LSTM, Dense, Dropout, Bidirectional\n",
        "from tensorflow.keras.preprocessing.text import Tokenizer\n",
        "from tensorflow.keras.models import Sequential\n",
        "from tensorflow.keras.optimizers import Adam\n",
        "from tensorflow.keras.regularizers import L2\n",
        "import tensorflow.keras.utils as ku \n",
        "import numpy as np "
      ],
      "execution_count": 4,
      "outputs": []
    },
    {
      "cell_type": "code",
      "metadata": {
        "colab_type": "code",
        "id": "PRnDnCW-Z7qv",
        "colab": {
          "base_uri": "https://localhost:8080/",
          "height": 204
        },
        "outputId": "ccdd1a79-d9c1-4b57-ba49-f68276b120ba"
      },
      "source": [
        "tokenizer = Tokenizer()\n",
        "!wget --no-check-certificate \\\n",
        "    https://storage.googleapis.com/laurencemoroney-blog.appspot.com/sonnets.txt \\\n",
        "    -O /tmp/sonnets.txt\n",
        "data = open('/tmp/sonnets.txt').read()\n",
        "\n",
        "corpus = data.lower().split(\"\\n\")\n",
        "\n",
        "\n",
        "tokenizer.fit_on_texts(corpus)\n",
        "total_words = len(tokenizer.word_index) + 1\n",
        "\n",
        "# create input sequences using list of tokens\n",
        "input_sequences = []\n",
        "for line in corpus:\n",
        "\ttoken_list = tokenizer.texts_to_sequences([line])[0]\n",
        "\tfor i in range(1, len(token_list)):\n",
        "\t\tn_gram_sequence = token_list[:i+1]\n",
        "\t\tinput_sequences.append(n_gram_sequence)\n",
        "\n",
        "\n",
        "# pad sequences \n",
        "max_sequence_len = max([len(x) for x in input_sequences])\n",
        "input_sequences = np.array(pad_sequences(input_sequences, maxlen=max_sequence_len, padding='pre'))\n",
        "\n",
        "# create predictors and label\n",
        "predictors, label = input_sequences[:,:-1],input_sequences[:,-1]\n",
        "\n",
        "label = ku.to_categorical(label, num_classes=total_words)"
      ],
      "execution_count": 2,
      "outputs": [
        {
          "output_type": "stream",
          "text": [
            "--2020-09-05 17:40:06--  https://storage.googleapis.com/laurencemoroney-blog.appspot.com/sonnets.txt\n",
            "Resolving storage.googleapis.com (storage.googleapis.com)... 172.217.193.128, 172.217.204.128, 172.217.203.128, ...\n",
            "Connecting to storage.googleapis.com (storage.googleapis.com)|172.217.193.128|:443... connected.\n",
            "HTTP request sent, awaiting response... 200 OK\n",
            "Length: 93578 (91K) [text/plain]\n",
            "Saving to: ‘/tmp/sonnets.txt’\n",
            "\n",
            "\r/tmp/sonnets.txt      0%[                    ]       0  --.-KB/s               \r/tmp/sonnets.txt    100%[===================>]  91.38K  --.-KB/s    in 0.001s  \n",
            "\n",
            "2020-09-05 17:40:06 (108 MB/s) - ‘/tmp/sonnets.txt’ saved [93578/93578]\n",
            "\n"
          ],
          "name": "stdout"
        }
      ]
    },
    {
      "cell_type": "code",
      "metadata": {
        "colab_type": "code",
        "id": "w9vH8Y59ajYL",
        "colab": {
          "base_uri": "https://localhost:8080/",
          "height": 374
        },
        "outputId": "83273b46-ed93-4d75-e9bf-56ee8906e6a9"
      },
      "source": [
        "model = Sequential()\n",
        "model.add(Embedding(total_words, 100, input_length=max_sequence_len-1))\n",
        "model.add(Bidirectional(LSTM(150, return_sequences=True)))\n",
        "model.add(Dropout(0.2))\n",
        "model.add(Bidirectional(LSTM(150)))\n",
        "model.add(Dense(total_words/2, kernel_regularizer=L2(0.01), activation='relu'))\n",
        "model.add(Dense(total_words, activation='softmax'))\n",
        "# Pick an optimizer\n",
        "model.compile(loss='categorical_crossentropy', optimizer='adam', metrics=['accuracy'])\n",
        "print(model.summary())\n"
      ],
      "execution_count": 10,
      "outputs": [
        {
          "output_type": "stream",
          "text": [
            "Model: \"sequential_3\"\n",
            "_________________________________________________________________\n",
            "Layer (type)                 Output Shape              Param #   \n",
            "=================================================================\n",
            "embedding_3 (Embedding)      (None, 10, 100)           321100    \n",
            "_________________________________________________________________\n",
            "bidirectional_6 (Bidirection (None, 10, 300)           301200    \n",
            "_________________________________________________________________\n",
            "dropout_3 (Dropout)          (None, 10, 300)           0         \n",
            "_________________________________________________________________\n",
            "bidirectional_7 (Bidirection (None, 300)               541200    \n",
            "_________________________________________________________________\n",
            "dense_2 (Dense)              (None, 1605)              483105    \n",
            "_________________________________________________________________\n",
            "dense_3 (Dense)              (None, 3211)              5156866   \n",
            "=================================================================\n",
            "Total params: 6,803,471\n",
            "Trainable params: 6,803,471\n",
            "Non-trainable params: 0\n",
            "_________________________________________________________________\n",
            "None\n"
          ],
          "name": "stdout"
        }
      ]
    },
    {
      "cell_type": "code",
      "metadata": {
        "colab_type": "code",
        "id": "AIg2f1HBxqof",
        "colab": {
          "base_uri": "https://localhost:8080/",
          "height": 1000
        },
        "outputId": "cd5f324c-6983-4178-ac03-3663cf50013e"
      },
      "source": [
        " history = model.fit(predictors, label, epochs=100, verbose=1)"
      ],
      "execution_count": 12,
      "outputs": [
        {
          "output_type": "stream",
          "text": [
            "Epoch 1/100\n",
            "484/484 [==============================] - 6s 13ms/step - loss: 6.9995 - accuracy: 0.0231\n",
            "Epoch 2/100\n",
            "484/484 [==============================] - 6s 12ms/step - loss: 6.5119 - accuracy: 0.0233\n",
            "Epoch 3/100\n",
            "484/484 [==============================] - 6s 13ms/step - loss: 6.4127 - accuracy: 0.0271\n",
            "Epoch 4/100\n",
            "484/484 [==============================] - 6s 13ms/step - loss: 6.2926 - accuracy: 0.0316\n",
            "Epoch 5/100\n",
            "484/484 [==============================] - 6s 12ms/step - loss: 6.1778 - accuracy: 0.0369\n",
            "Epoch 6/100\n",
            "484/484 [==============================] - 6s 12ms/step - loss: 6.0701 - accuracy: 0.0403\n",
            "Epoch 7/100\n",
            "484/484 [==============================] - 6s 13ms/step - loss: 5.9661 - accuracy: 0.0437\n",
            "Epoch 8/100\n",
            "484/484 [==============================] - 6s 13ms/step - loss: 5.8389 - accuracy: 0.0497\n",
            "Epoch 9/100\n",
            "484/484 [==============================] - 6s 13ms/step - loss: 5.7029 - accuracy: 0.0579\n",
            "Epoch 10/100\n",
            "484/484 [==============================] - 6s 13ms/step - loss: 5.5725 - accuracy: 0.0682\n",
            "Epoch 11/100\n",
            "484/484 [==============================] - 6s 13ms/step - loss: 5.4462 - accuracy: 0.0759\n",
            "Epoch 12/100\n",
            "484/484 [==============================] - 6s 13ms/step - loss: 5.3239 - accuracy: 0.0844\n",
            "Epoch 13/100\n",
            "484/484 [==============================] - 6s 13ms/step - loss: 5.2021 - accuracy: 0.0899\n",
            "Epoch 14/100\n",
            "484/484 [==============================] - 6s 13ms/step - loss: 5.0822 - accuracy: 0.0997\n",
            "Epoch 15/100\n",
            "484/484 [==============================] - 6s 13ms/step - loss: 4.9598 - accuracy: 0.1059\n",
            "Epoch 16/100\n",
            "484/484 [==============================] - 6s 13ms/step - loss: 4.8471 - accuracy: 0.1158\n",
            "Epoch 17/100\n",
            "484/484 [==============================] - 6s 12ms/step - loss: 4.7338 - accuracy: 0.1259\n",
            "Epoch 18/100\n",
            "484/484 [==============================] - 6s 12ms/step - loss: 4.6113 - accuracy: 0.1345\n",
            "Epoch 19/100\n",
            "484/484 [==============================] - 6s 12ms/step - loss: 4.4930 - accuracy: 0.1470\n",
            "Epoch 20/100\n",
            "484/484 [==============================] - 6s 13ms/step - loss: 4.3857 - accuracy: 0.1597\n",
            "Epoch 21/100\n",
            "484/484 [==============================] - 6s 13ms/step - loss: 4.2683 - accuracy: 0.1665\n",
            "Epoch 22/100\n",
            "484/484 [==============================] - 6s 13ms/step - loss: 4.1534 - accuracy: 0.1810\n",
            "Epoch 23/100\n",
            "484/484 [==============================] - 6s 13ms/step - loss: 4.0400 - accuracy: 0.1954\n",
            "Epoch 24/100\n",
            "484/484 [==============================] - 6s 12ms/step - loss: 3.9250 - accuracy: 0.2161\n",
            "Epoch 25/100\n",
            "484/484 [==============================] - 6s 12ms/step - loss: 3.8145 - accuracy: 0.2344\n",
            "Epoch 26/100\n",
            "484/484 [==============================] - 6s 13ms/step - loss: 3.7069 - accuracy: 0.2519\n",
            "Epoch 27/100\n",
            "484/484 [==============================] - 6s 13ms/step - loss: 3.5999 - accuracy: 0.2696\n",
            "Epoch 28/100\n",
            "484/484 [==============================] - 6s 13ms/step - loss: 3.5058 - accuracy: 0.2919\n",
            "Epoch 29/100\n",
            "484/484 [==============================] - 6s 13ms/step - loss: 3.3998 - accuracy: 0.3141\n",
            "Epoch 30/100\n",
            "484/484 [==============================] - 6s 12ms/step - loss: 3.2915 - accuracy: 0.3379\n",
            "Epoch 31/100\n",
            "484/484 [==============================] - 6s 13ms/step - loss: 3.1989 - accuracy: 0.3608\n",
            "Epoch 32/100\n",
            "484/484 [==============================] - 6s 13ms/step - loss: 3.1138 - accuracy: 0.3778\n",
            "Epoch 33/100\n",
            "484/484 [==============================] - 6s 12ms/step - loss: 3.0178 - accuracy: 0.4019\n",
            "Epoch 34/100\n",
            "484/484 [==============================] - 6s 12ms/step - loss: 2.9372 - accuracy: 0.4226\n",
            "Epoch 35/100\n",
            "484/484 [==============================] - 6s 13ms/step - loss: 2.8495 - accuracy: 0.4390\n",
            "Epoch 36/100\n",
            "484/484 [==============================] - 6s 13ms/step - loss: 2.7702 - accuracy: 0.4607\n",
            "Epoch 37/100\n",
            "484/484 [==============================] - 6s 13ms/step - loss: 2.7054 - accuracy: 0.4732\n",
            "Epoch 38/100\n",
            "484/484 [==============================] - 6s 13ms/step - loss: 2.6168 - accuracy: 0.4941\n",
            "Epoch 39/100\n",
            "484/484 [==============================] - 6s 13ms/step - loss: 2.5527 - accuracy: 0.5066\n",
            "Epoch 40/100\n",
            "484/484 [==============================] - 6s 13ms/step - loss: 2.4701 - accuracy: 0.5294\n",
            "Epoch 41/100\n",
            "484/484 [==============================] - 6s 13ms/step - loss: 2.4135 - accuracy: 0.5441\n",
            "Epoch 42/100\n",
            "484/484 [==============================] - 6s 12ms/step - loss: 2.3235 - accuracy: 0.5718\n",
            "Epoch 43/100\n",
            "484/484 [==============================] - 6s 13ms/step - loss: 2.2636 - accuracy: 0.5781\n",
            "Epoch 44/100\n",
            "484/484 [==============================] - 6s 12ms/step - loss: 2.2156 - accuracy: 0.5918\n",
            "Epoch 45/100\n",
            "484/484 [==============================] - 6s 13ms/step - loss: 2.1533 - accuracy: 0.6069\n",
            "Epoch 46/100\n",
            "484/484 [==============================] - 6s 13ms/step - loss: 2.1029 - accuracy: 0.6173\n",
            "Epoch 47/100\n",
            "484/484 [==============================] - 6s 13ms/step - loss: 2.0480 - accuracy: 0.6308\n",
            "Epoch 48/100\n",
            "484/484 [==============================] - 6s 13ms/step - loss: 2.0153 - accuracy: 0.6353\n",
            "Epoch 49/100\n",
            "484/484 [==============================] - 6s 13ms/step - loss: 1.9555 - accuracy: 0.6507\n",
            "Epoch 50/100\n",
            "484/484 [==============================] - 6s 13ms/step - loss: 1.9021 - accuracy: 0.6636\n",
            "Epoch 51/100\n",
            "484/484 [==============================] - 6s 13ms/step - loss: 1.8600 - accuracy: 0.6716\n",
            "Epoch 52/100\n",
            "484/484 [==============================] - 6s 13ms/step - loss: 1.8203 - accuracy: 0.6802\n",
            "Epoch 53/100\n",
            "484/484 [==============================] - 6s 13ms/step - loss: 1.7714 - accuracy: 0.6918\n",
            "Epoch 54/100\n",
            "484/484 [==============================] - 6s 13ms/step - loss: 1.7382 - accuracy: 0.6950\n",
            "Epoch 55/100\n",
            "484/484 [==============================] - 6s 12ms/step - loss: 1.7071 - accuracy: 0.7062\n",
            "Epoch 56/100\n",
            "484/484 [==============================] - 6s 13ms/step - loss: 1.6804 - accuracy: 0.7093\n",
            "Epoch 57/100\n",
            "484/484 [==============================] - 6s 13ms/step - loss: 1.6412 - accuracy: 0.7211\n",
            "Epoch 58/100\n",
            "484/484 [==============================] - 6s 13ms/step - loss: 1.6022 - accuracy: 0.7284\n",
            "Epoch 59/100\n",
            "484/484 [==============================] - 6s 13ms/step - loss: 1.5575 - accuracy: 0.7361\n",
            "Epoch 60/100\n",
            "484/484 [==============================] - 6s 12ms/step - loss: 1.5441 - accuracy: 0.7372\n",
            "Epoch 61/100\n",
            "484/484 [==============================] - 6s 13ms/step - loss: 1.5232 - accuracy: 0.7403\n",
            "Epoch 62/100\n",
            "484/484 [==============================] - 6s 13ms/step - loss: 1.4927 - accuracy: 0.7451\n",
            "Epoch 63/100\n",
            "484/484 [==============================] - 6s 12ms/step - loss: 1.4667 - accuracy: 0.7528\n",
            "Epoch 64/100\n",
            "484/484 [==============================] - 6s 12ms/step - loss: 1.4583 - accuracy: 0.7527\n",
            "Epoch 65/100\n",
            "484/484 [==============================] - 6s 13ms/step - loss: 1.4307 - accuracy: 0.7614\n",
            "Epoch 66/100\n",
            "484/484 [==============================] - 6s 13ms/step - loss: 1.3870 - accuracy: 0.7695\n",
            "Epoch 67/100\n",
            "484/484 [==============================] - 6s 13ms/step - loss: 1.3747 - accuracy: 0.7714\n",
            "Epoch 68/100\n",
            "484/484 [==============================] - 6s 12ms/step - loss: 1.3727 - accuracy: 0.7670\n",
            "Epoch 69/100\n",
            "484/484 [==============================] - 6s 13ms/step - loss: 1.3412 - accuracy: 0.7750\n",
            "Epoch 70/100\n",
            "484/484 [==============================] - 6s 13ms/step - loss: 1.3144 - accuracy: 0.7804\n",
            "Epoch 71/100\n",
            "484/484 [==============================] - 6s 13ms/step - loss: 1.2891 - accuracy: 0.7854\n",
            "Epoch 72/100\n",
            "484/484 [==============================] - 6s 13ms/step - loss: 1.2799 - accuracy: 0.7879\n",
            "Epoch 73/100\n",
            "484/484 [==============================] - 6s 13ms/step - loss: 1.2882 - accuracy: 0.7818\n",
            "Epoch 74/100\n",
            "484/484 [==============================] - 6s 12ms/step - loss: 1.2557 - accuracy: 0.7893\n",
            "Epoch 75/100\n",
            "484/484 [==============================] - 6s 13ms/step - loss: 1.2385 - accuracy: 0.7917\n",
            "Epoch 76/100\n",
            "484/484 [==============================] - 6s 13ms/step - loss: 1.2265 - accuracy: 0.7923\n",
            "Epoch 77/100\n",
            "484/484 [==============================] - 6s 12ms/step - loss: 1.2120 - accuracy: 0.7971\n",
            "Epoch 78/100\n",
            "484/484 [==============================] - 6s 13ms/step - loss: 1.1842 - accuracy: 0.8020\n",
            "Epoch 79/100\n",
            "484/484 [==============================] - 6s 13ms/step - loss: 1.1846 - accuracy: 0.8009\n",
            "Epoch 80/100\n",
            "484/484 [==============================] - 6s 13ms/step - loss: 1.1749 - accuracy: 0.8031\n",
            "Epoch 81/100\n",
            "484/484 [==============================] - 6s 13ms/step - loss: 1.1536 - accuracy: 0.8062\n",
            "Epoch 82/100\n",
            "484/484 [==============================] - 6s 13ms/step - loss: 1.1497 - accuracy: 0.8033\n",
            "Epoch 83/100\n",
            "484/484 [==============================] - 6s 13ms/step - loss: 1.1506 - accuracy: 0.8033\n",
            "Epoch 84/100\n",
            "484/484 [==============================] - 6s 13ms/step - loss: 1.1408 - accuracy: 0.8074\n",
            "Epoch 85/100\n",
            "484/484 [==============================] - 6s 13ms/step - loss: 1.1125 - accuracy: 0.8129\n",
            "Epoch 86/100\n",
            "484/484 [==============================] - 6s 13ms/step - loss: 1.1139 - accuracy: 0.8120\n",
            "Epoch 87/100\n",
            "484/484 [==============================] - 6s 13ms/step - loss: 1.0999 - accuracy: 0.8131\n",
            "Epoch 88/100\n",
            "484/484 [==============================] - 6s 12ms/step - loss: 1.0817 - accuracy: 0.8182\n",
            "Epoch 89/100\n",
            "484/484 [==============================] - 6s 13ms/step - loss: 1.0826 - accuracy: 0.8130\n",
            "Epoch 90/100\n",
            "484/484 [==============================] - 6s 13ms/step - loss: 1.0643 - accuracy: 0.8181\n",
            "Epoch 91/100\n",
            "484/484 [==============================] - 6s 13ms/step - loss: 1.0649 - accuracy: 0.8181\n",
            "Epoch 92/100\n",
            "484/484 [==============================] - 6s 13ms/step - loss: 1.0521 - accuracy: 0.8198\n",
            "Epoch 93/100\n",
            "484/484 [==============================] - 6s 13ms/step - loss: 1.0421 - accuracy: 0.8229\n",
            "Epoch 94/100\n",
            "484/484 [==============================] - 6s 13ms/step - loss: 1.0488 - accuracy: 0.8194\n",
            "Epoch 95/100\n",
            "484/484 [==============================] - 6s 13ms/step - loss: 1.0392 - accuracy: 0.8210\n",
            "Epoch 96/100\n",
            "484/484 [==============================] - 6s 13ms/step - loss: 1.0189 - accuracy: 0.8236\n",
            "Epoch 97/100\n",
            "484/484 [==============================] - 6s 13ms/step - loss: 1.0169 - accuracy: 0.8232\n",
            "Epoch 98/100\n",
            "484/484 [==============================] - 6s 13ms/step - loss: 1.0196 - accuracy: 0.8198\n",
            "Epoch 99/100\n",
            "484/484 [==============================] - 6s 13ms/step - loss: 1.0317 - accuracy: 0.8189\n",
            "Epoch 100/100\n",
            "484/484 [==============================] - 6s 13ms/step - loss: 1.0219 - accuracy: 0.8218\n"
          ],
          "name": "stdout"
        }
      ]
    },
    {
      "cell_type": "code",
      "metadata": {
        "colab_type": "code",
        "id": "1fXTEO3GJ282",
        "colab": {
          "base_uri": "https://localhost:8080/",
          "height": 545
        },
        "outputId": "85795818-012d-45b2-bbf8-45d383fbcd0a"
      },
      "source": [
        "import matplotlib.pyplot as plt\n",
        "acc = history.history['accuracy']\n",
        "loss = history.history['loss']\n",
        "\n",
        "epochs = range(len(acc))\n",
        "\n",
        "plt.plot(epochs, acc, 'b', label='Training accuracy')\n",
        "plt.title('Training accuracy')\n",
        "\n",
        "plt.figure()\n",
        "\n",
        "plt.plot(epochs, loss, 'b', label='Training Loss')\n",
        "plt.title('Training loss')\n",
        "plt.legend()\n",
        "\n",
        "plt.show()"
      ],
      "execution_count": 13,
      "outputs": [
        {
          "output_type": "display_data",
          "data": {
            "image/png": "[encoded data removed]",
            "text/plain": [
              "<Figure size 432x288 with 1 Axes>"
            ]
          },
          "metadata": {
            "tags": [],
            "needs_background": "light"
          }
        },
        {
          "output_type": "display_data",
          "data": {
            "image/png": "[encoded data removed]",
            "text/plain": [
              "<Figure size 432x288 with 1 Axes>"
            ]
          },
          "metadata": {
            "tags": [],
            "needs_background": "light"
          }
        }
      ]
    },
    {
      "cell_type": "code",
      "metadata": {
        "colab_type": "code",
        "id": "6Vc6PHgxa6Hm",
        "colab": {
          "base_uri": "https://localhost:8080/",
          "height": 54
        },
        "outputId": "25e03d3d-ca6b-4892-88dd-1cd2b9a9373b"
      },
      "source": [
        "seed_text = \"Help me Obi Wan Kenobi, you're my only hope\"\n",
        "next_words = 100\n",
        "  \n",
        "for _ in range(next_words):\n",
        "\ttoken_list = tokenizer.texts_to_sequences([seed_text])[0]\n",
        "\ttoken_list = pad_sequences([token_list], maxlen=max_sequence_len-1, padding='pre')\n",
        "\tpredicted = np.argmax(model.predict(token_list, verbose=0))\n",
        "\toutput_word = \"\"\n",
        "\tfor word, index in tokenizer.word_index.items():\n",
        "\t\tif index == predicted:\n",
        "\t\t\toutput_word = word\n",
        "\t\t\tbreak\n",
        "\tseed_text += \" \" + output_word\n",
        "print(seed_text)"
      ],
      "execution_count": 15,
      "outputs": [
        {
          "output_type": "stream",
          "text": [
            "Help me Obi Wan Kenobi, you're my only hope sail in my five control crime day days respect hell on growing brow decay light clearer mad commits mad mad show'st show'st dyed worse dyed dyed dyed behind me clears behind love's chest lie may but me doth none alive me done there confounds me fair ill past disgrace ' doth come grow doth green me light held appear taken taken crime clearer light young to crave crave cross rare rare ' lived and blot my love's wrong shall spend impute near eye sounds sounds go or rain check rolling thee they confounds him 'tis her lips to none '\n"
          ],
          "name": "stdout"
        }
      ]
    },
    {
      "cell_type": "code",
      "metadata": {
        "id": "xrAZ3Dorad0j",
        "colab_type": "code",
        "colab": {}
      },
      "source": [
        ""
      ],
      "execution_count": null,
      "outputs": []
    }
  ]
}